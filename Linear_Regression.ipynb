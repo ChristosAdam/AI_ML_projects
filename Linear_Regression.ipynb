{
 "cells": [
  {
   "cell_type": "markdown",
   "metadata": {},
   "source": [
    "**Homework 2**\n",
    "\n",
    "By Team H\n",
    "\n",
    "Functions implementation:"
   ]
  },
  {
   "cell_type": "code",
   "execution_count": 21,
   "metadata": {
    "ExecuteTime": {
     "end_time": "2019-03-04T23:32:02.139743Z",
     "start_time": "2019-03-04T23:32:02.129759Z"
    }
   },
   "outputs": [],
   "source": [
    "def predict_sales(radio, weight, bias):\n",
    "    return weight*radio + bias\n",
    "\n",
    "def cost_function(radio, sales, weight, bias):\n",
    "    \n",
    "    companies = len(radio)\n",
    "    total_error = 0.0\n",
    "    for i in range(companies):\n",
    "        total_error += (sales[i] - (weight*radio[i] + bias))**2\n",
    "    return total_error / companies\n",
    "\n",
    "def update_weights(radio, sales, weight, bias, learning_rate):\n",
    "    weight_deriv = 0\n",
    "    bias_deriv = 0\n",
    "    companies = len(radio)\n",
    "\n",
    "    for i in range(companies):\n",
    "        # Calculate partial derivatives\n",
    "        # -2x(y - (mx + b))\n",
    "        weight_deriv += -2*radio[i] * (sales[i] - (weight*radio[i] + bias))\n",
    "\n",
    "        # -2(y - (mx + b))\n",
    "        bias_deriv += -2*(sales[i] - (weight*radio[i] + bias))\n",
    "\n",
    "    # We subtract because the derivatives point in direction of steepest ascent\n",
    "    weight -= (weight_deriv / companies) * learning_rate\n",
    "    bias -= (bias_deriv / companies) * learning_rate\n",
    "\n",
    "    return weight, bias\n",
    "\n",
    "def train(radio, sales, weight, bias, learning_rate, iters):\n",
    "    cost_history = []\n",
    "\n",
    "    for i in range(iters):\n",
    "        weight,bias = update_weights(radio, sales, weight, bias, learning_rate)\n",
    "\n",
    "        #Calculate cost for auditing purposes\n",
    "        cost = cost_function(radio, sales, weight, bias)\n",
    "        cost_history.append(cost)\n",
    "\n",
    "        # Log Progress\n",
    "        if i % 10 == 0:\n",
    "            print (\"iter: \"+str(i) + \" weight: \"+str(round(weight, 2)) + \" bias: \" + str(round(bias, 3)) + \" cost: \"+str(round(cost, 2)))\n",
    "\n",
    "    return weight, bias, cost_history"
   ]
  },
  {
   "cell_type": "markdown",
   "metadata": {
    "ExecuteTime": {
     "end_time": "2019-03-04T23:24:46.168161Z",
     "start_time": "2019-03-04T23:24:46.163177Z"
    }
   },
   "source": [
    "**Exercise 1**\n",
    "\n",
    "After we imported the .csv files we set the starting weight, bias and learning rate as shown below, this is the output we obtained:"
   ]
  },
  {
   "cell_type": "code",
   "execution_count": 22,
   "metadata": {
    "ExecuteTime": {
     "end_time": "2019-03-04T23:32:52.043779Z",
     "start_time": "2019-03-04T23:32:51.992809Z"
    }
   },
   "outputs": [
    {
     "name": "stdout",
     "output_type": "stream",
     "text": [
      "iter: 0 weight: 0.04 bias: 0.002 cost: 196.84\n",
      "iter: 10 weight: 0.11 bias: 0.004 cost: 152.74\n",
      "iter: 20 weight: 0.17 bias: 0.007 cost: 121.28\n",
      "iter: 30 weight: 0.22 bias: 0.009 cost: 98.84\n",
      "iter: 40 weight: 0.26 bias: 0.011 cost: 82.83\n"
     ]
    }
   ],
   "source": [
    "import pandas as pd\n",
    "import matplotlib.pyplot as plt\n",
    "\n",
    "dataset = pd.read_csv(\"Advertising.csv\")\n",
    "iters = 50\n",
    "\n",
    "radio = dataset['radio'].values\n",
    "sales = dataset['sales'].values\n",
    "weight = .03\n",
    "bias = .0014\n",
    "learning_rate = 0.000011\n",
    "\n",
    "\n",
    "\n",
    "weight, bias, cost_history = train(radio, sales, weight, bias, learning_rate, iters)"
   ]
  },
  {
   "cell_type": "markdown",
   "metadata": {},
   "source": [
    "Function implementations for Exercise 2"
   ]
  },
  {
   "cell_type": "code",
   "execution_count": 2,
   "metadata": {
    "ExecuteTime": {
     "end_time": "2019-03-04T23:33:42.793852Z",
     "start_time": "2019-03-04T23:33:42.776850Z"
    }
   },
   "outputs": [],
   "source": [
    "def normalize(features):\n",
    "    '''\n",
    "    features     -   (200, 3)\n",
    "    features.T   -   (3, 200)\n",
    "\n",
    "    We transpose the input matrix, swapping\n",
    "    cols and rows to make vector math easier\n",
    "    '''\n",
    "\n",
    "    for feature in features.T:\n",
    "        fmean = np.mean(feature)\n",
    "        frange = np.amax(feature) - np.amin(feature)\n",
    "\n",
    "        #Vector Subtraction\n",
    "        feature -= fmean\n",
    "\n",
    "        #Vector Division\n",
    "        feature /= frange\n",
    "\n",
    "    return features\n",
    "\n",
    "def predict(features, weights):\n",
    "  '''\n",
    "  features - (200, 3)\n",
    "  weights - (3, 1)\n",
    "  predictions - (200,1)\n",
    "  '''\n",
    "  return np.dot(features,weights)\n",
    "\n",
    "def update_weights(features, targets, weights, lr):\n",
    "    '''\n",
    "    Features:(200, 3)\n",
    "    Targets: (200, 1)\n",
    "    Weights:(3, 1)\n",
    "    '''\n",
    "    x0 = \"global\"\n",
    "    x1 = \"global\"\n",
    "    x2 = \"global\"\n",
    "    x3 = \"global\"\n",
    "    predictions = predict(features, weights)\n",
    "\n",
    "    #Extract our features\n",
    "    x0 = features[:,0]\n",
    "    x1 = features[:,1]\n",
    "    x2 = features[:,2]\n",
    "    x3 = features[:,3]\n",
    "\n",
    "    # Use matrix cross product (*) to simultaneously\n",
    "    # calculate the derivative for each weight\n",
    "    d_w0 = -x0*(targets - predictions)\n",
    "    d_w1 = -x1*(targets - predictions)\n",
    "    d_w2 = -x2*(targets - predictions)\n",
    "    d_w3 = -x3*(targets - predictions)\n",
    "\n",
    "    # Multiply the mean derivative by the learning rate\n",
    "    # and subtract from our weights (remember gradient points in direction of steepest ASCENT)\n",
    "    weights[0][0] -= (lr * np.mean(d_w0))\n",
    "    weights[1][0] -= (lr * np.mean(d_w1))\n",
    "    weights[2][0] -= (lr * np.mean(d_w2))\n",
    "    weights[3][0] -= (lr * np.mean(d_w3))\n",
    "\n",
    "    return weights\n",
    "\n",
    "def cost_function(features, targets, weights):\n",
    "    \n",
    "    #Features:(200,3)\n",
    "    #Targets: (200,1)\n",
    "    #Weights:(3,1)\n",
    "    #Returns 1D matrix of predictions\n",
    "    \n",
    "    N = len(targets)\n",
    "\n",
    "    predictions = predict(features, weights)\n",
    "\n",
    "    # Matrix math lets use do this without looping\n",
    "    sq_error = (predictions - targets)**2\n",
    "\n",
    "    # Return average squared error among predictions\n",
    "    return 1.0/(2*N) * sq_error.sum()\n",
    "\n",
    "'''\n",
    "\n",
    "X = [\n",
    "    [x1, x2, x3]\n",
    "    [x1, x2, x3]\n",
    "    [x1, x2, x3]\n",
    "]\n",
    "\n",
    "targets = [\n",
    "    [1],\n",
    "    [2],\n",
    "    [3]\n",
    "]\n",
    "'''\n",
    "def update_weights_vectorized(X, targets, weights, lr):\n",
    "    '''\n",
    "    gradient = X.T * (predictions - targets) / N\n",
    "    X: (200, 3)\n",
    "    Targets: (200, 1)\n",
    "    Weights: (3, 1)\n",
    "    '''\n",
    "    companies = len(X)\n",
    "\n",
    "    #1 - Get Predictions\n",
    "    predictions = predict(X, weights)\n",
    "\n",
    "    #2 - Calculate error/loss\n",
    "    error = targets - predictions\n",
    "\n",
    "    #3 Transpose features from (200, 3) to (3, 200)\n",
    "    # So we can multiply w the (200,1)  error matrix.\n",
    "    # Returns a (3,1) matrix holding 3 partial derivatives --\n",
    "    # one for each feature -- representing the aggregate\n",
    "    # slope of the cost function across all observations\n",
    "    gradient = np.dot(-X.T,  error)\n",
    "\n",
    "    #4 Take the average error derivative for each feature\n",
    "    gradient /= companies\n",
    "\n",
    "    #5 - Multiply the gradient by our learning rate\n",
    "    ##gradient *= lr\n",
    "  \n",
    "    #6 - Subtract from our weights to minimize cost(\n",
    "   \n",
    "    weights[0] -= (lr * np.mean(gradient[:,0]))\n",
    "    weights[1] -= (lr * np.mean(gradient[:,1]))\n",
    "    weights[2] -= (lr * np.mean(gradient[:,2]))\n",
    "    weights[3] -= (lr * np.mean(gradient[:,3]))\n",
    "    \n",
    "    return weights\n",
    "\n",
    "def train(features, sales, weight, learning_rate, iters):\n",
    "    cost_history = []\n",
    "    \n",
    "    #print(features)\n",
    "    for i in range(iters):\n",
    "        weight = update_weights(features, sales, weight, learning_rate)\n",
    "\n",
    "        #Calculate cost for auditing purposes\n",
    "        cost = cost_function(features, sales, weight)\n",
    "        cost_history.append(cost)\n",
    "\n",
    "    return weight, cost_history"
   ]
  },
  {
   "cell_type": "markdown",
   "metadata": {},
   "source": [
    "**Exercise 2**\n",
    "\n",
    "After reading the csv file with 1000 iterations and the learning rate below, our output (bias, learning rate) matches the given model."
   ]
  },
  {
   "cell_type": "code",
   "execution_count": 20,
   "metadata": {
    "ExecuteTime": {
     "end_time": "2019-03-04T23:33:45.547809Z",
     "start_time": "2019-03-04T23:33:44.409229Z"
    }
   },
   "outputs": [
    {
     "name": "stdout",
     "output_type": "stream",
     "text": [
      "Sales = [4.72]TV + [3.58]Radio + [0.91]Newspaper + [13.79]\n"
     ]
    }
   ],
   "source": [
    "import numpy as np\n",
    "import pandas as pd\n",
    "\n",
    "W1 = 0.0\n",
    "W2 = 0.0\n",
    "W3 = 0.0\n",
    "weights = np.array([\n",
    "    [1],\n",
    "    [W1],\n",
    "    [W2],\n",
    "    [W3]\n",
    "])\n",
    "iters = 1000\n",
    "\n",
    "learning_rate = 0.004\n",
    "\n",
    "dataset = pd.read_csv(\"Advertising.csv\")\n",
    "features=dataset[['TV','radio','newspaper']].values\n",
    "sales =dataset['sales'].values\n",
    "\n",
    "features=normalize(features)\n",
    "\n",
    "bias = np.ones(shape=(len(features),1))\n",
    "features = np.append(bias, features, axis=1)\n",
    "weights,cost = train(features, sales, weights, learning_rate, iters)\n",
    "\n",
    "print(\"Sales = \" + str(np.round(weights[1], 2)) + \"TV + \" + str(np.round(weights[2], 2)) + \"Radio + \" + str(np.round(weights[3], 2)) + \"Newspaper + \" + str(np.round(weights[0], 2)))"
   ]
  },
  {
   "cell_type": "code",
   "execution_count": null,
   "metadata": {},
   "outputs": [],
   "source": []
  }
 ],
 "metadata": {
  "kernelspec": {
   "display_name": "Python 3",
   "language": "python",
   "name": "python3"
  },
  "language_info": {
   "codemirror_mode": {
    "name": "ipython",
    "version": 3
   },
   "file_extension": ".py",
   "mimetype": "text/x-python",
   "name": "python",
   "nbconvert_exporter": "python",
   "pygments_lexer": "ipython3",
   "version": "3.6.6"
  },
  "latex_envs": {
   "LaTeX_envs_menu_present": true,
   "autoclose": false,
   "autocomplete": true,
   "bibliofile": "biblio.bib",
   "cite_by": "apalike",
   "current_citInitial": 1,
   "eqLabelWithNumbers": true,
   "eqNumInitial": 1,
   "hotkeys": {
    "equation": "Ctrl-E",
    "itemize": "Ctrl-I"
   },
   "labels_anchors": false,
   "latex_user_defs": false,
   "report_style_numbering": false,
   "user_envs_cfg": false
  },
  "toc": {
   "base_numbering": 1,
   "nav_menu": {},
   "number_sections": true,
   "sideBar": true,
   "skip_h1_title": false,
   "title_cell": "Table of Contents",
   "title_sidebar": "Contents",
   "toc_cell": false,
   "toc_position": {},
   "toc_section_display": true,
   "toc_window_display": false
  },
  "varInspector": {
   "cols": {
    "lenName": 16,
    "lenType": 16,
    "lenVar": 40
   },
   "kernels_config": {
    "python": {
     "delete_cmd_postfix": "",
     "delete_cmd_prefix": "del ",
     "library": "var_list.py",
     "varRefreshCmd": "print(var_dic_list())"
    },
    "r": {
     "delete_cmd_postfix": ") ",
     "delete_cmd_prefix": "rm(",
     "library": "var_list.r",
     "varRefreshCmd": "cat(var_dic_list()) "
    }
   },
   "types_to_exclude": [
    "module",
    "function",
    "builtin_function_or_method",
    "instance",
    "_Feature"
   ],
   "window_display": false
  }
 },
 "nbformat": 4,
 "nbformat_minor": 2
}
